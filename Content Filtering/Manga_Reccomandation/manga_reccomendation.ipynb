{
  "nbformat": 4,
  "nbformat_minor": 0,
  "metadata": {
    "colab": {
      "name": "manga_reccomendation.ipynb",
      "provenance": []
    },
    "kernelspec": {
      "name": "python3",
      "display_name": "Python 3"
    },
    "language_info": {
      "name": "python"
    }
  },
  "cells": [
    {
      "cell_type": "code",
      "metadata": {
        "id": "SQkuH-sXcHki"
      },
      "source": [
        "import numpy as np\n",
        "import pandas as pd\n",
        "from sklearn.feature_extraction.text import CountVectorizer\n",
        "from sklearn.metrics.pairwise import cosine_similarity"
      ],
      "execution_count": null,
      "outputs": []
    },
    {
      "cell_type": "code",
      "metadata": {
        "id": "76z8epMIoSDd"
      },
      "source": [
        "df=pd.read_csv(\"/content/manga_data.csv\")\n"
      ],
      "execution_count": null,
      "outputs": []
    },
    {
      "cell_type": "code",
      "metadata": {
        "colab": {
          "base_uri": "https://localhost:8080/",
          "height": 434
        },
        "id": "mHm2Y0ZxoyKb",
        "outputId": "693162d3-2c2f-4429-f62c-aec68768794e"
      },
      "source": [
        "df.head(3)\n"
      ],
      "execution_count": null,
      "outputs": [
        {
          "output_type": "execute_result",
          "data": {
            "text/html": [
              "<div>\n",
              "<style scoped>\n",
              "    .dataframe tbody tr th:only-of-type {\n",
              "        vertical-align: middle;\n",
              "    }\n",
              "\n",
              "    .dataframe tbody tr th {\n",
              "        vertical-align: top;\n",
              "    }\n",
              "\n",
              "    .dataframe thead th {\n",
              "        text-align: right;\n",
              "    }\n",
              "</style>\n",
              "<table border=\"1\" class=\"dataframe\">\n",
              "  <thead>\n",
              "    <tr style=\"text-align: right;\">\n",
              "      <th></th>\n",
              "      <th>Manga ID</th>\n",
              "      <th>Manga URL</th>\n",
              "      <th>English Title</th>\n",
              "      <th>Synonims Titles</th>\n",
              "      <th>Japanese Title</th>\n",
              "      <th>Type</th>\n",
              "      <th>Volumes</th>\n",
              "      <th>Chapters</th>\n",
              "      <th>Status</th>\n",
              "      <th>Published</th>\n",
              "      <th>Published Dates</th>\n",
              "      <th>Genres</th>\n",
              "      <th>Author</th>\n",
              "      <th>Serialization</th>\n",
              "      <th>Score</th>\n",
              "      <th>Ranked</th>\n",
              "      <th>Popularity</th>\n",
              "      <th>Members</th>\n",
              "      <th>Favorites</th>\n",
              "      <th>Score Voted By</th>\n",
              "    </tr>\n",
              "  </thead>\n",
              "  <tbody>\n",
              "    <tr>\n",
              "      <th>0</th>\n",
              "      <td>0</td>\n",
              "      <td>https://myanimelist.net/manga/2/Berserk</td>\n",
              "      <td>Berserk</td>\n",
              "      <td>Berserk: The Prototype</td>\n",
              "      <td>ベルセルク</td>\n",
              "      <td>Manga</td>\n",
              "      <td>Unknown</td>\n",
              "      <td>Unknown</td>\n",
              "      <td>Publishing</td>\n",
              "      <td>Aug  25, 1989 to ?</td>\n",
              "      <td>{'from': '1989-08-25', 'to': 'Unknown'}</td>\n",
              "      <td>['Action', 'Adventure', 'Demons', 'Drama', 'Fa...</td>\n",
              "      <td>['Miura, Kentarou (Story &amp; Art)']</td>\n",
              "      <td>Young Animal</td>\n",
              "      <td>9.33</td>\n",
              "      <td>1</td>\n",
              "      <td>4</td>\n",
              "      <td>296958</td>\n",
              "      <td>61992</td>\n",
              "      <td>139571</td>\n",
              "    </tr>\n",
              "    <tr>\n",
              "      <th>1</th>\n",
              "      <td>1</td>\n",
              "      <td>https://myanimelist.net/manga/1706/JoJo_no_Kim...</td>\n",
              "      <td>Unknown</td>\n",
              "      <td>JoJo's Bizarre Adventure Part 7: Steel Ball Ru...</td>\n",
              "      <td>ジョジョの奇妙な冒険 Part7 STEEL BALL RUN</td>\n",
              "      <td>Manga</td>\n",
              "      <td>24</td>\n",
              "      <td>96</td>\n",
              "      <td>Finished</td>\n",
              "      <td>Jan  19, 2004 to Apr  19, 2011</td>\n",
              "      <td>{'from': '2004-01-19', 'to': '2011-04-19'}</td>\n",
              "      <td>['Action', 'Adventure', 'Mystery', 'Historical...</td>\n",
              "      <td>['Araki, Hirohiko (Story &amp; Art)']</td>\n",
              "      <td>Ultra Jump</td>\n",
              "      <td>9.21</td>\n",
              "      <td>2</td>\n",
              "      <td>50</td>\n",
              "      <td>97073</td>\n",
              "      <td>18083</td>\n",
              "      <td>54901</td>\n",
              "    </tr>\n",
              "    <tr>\n",
              "      <th>2</th>\n",
              "      <td>2</td>\n",
              "      <td>https://myanimelist.net/manga/25/Fullmetal_Alc...</td>\n",
              "      <td>Fullmetal Alchemist</td>\n",
              "      <td>Full Metal Alchemist, Hagane no Renkinjutsushi...</td>\n",
              "      <td>鋼の錬金術師</td>\n",
              "      <td>Manga</td>\n",
              "      <td>27</td>\n",
              "      <td>116</td>\n",
              "      <td>Finished</td>\n",
              "      <td>Jul  12, 2001 to Sep  11, 2010</td>\n",
              "      <td>{'from': '2001-07-12', 'to': '2010-09-11'}</td>\n",
              "      <td>['Action', 'Adventure', 'Comedy', 'Drama', 'Sh...</td>\n",
              "      <td>['Arakawa, Hiromu (Story &amp; Art)']</td>\n",
              "      <td>Shounen Gangan</td>\n",
              "      <td>9.12</td>\n",
              "      <td>3</td>\n",
              "      <td>11</td>\n",
              "      <td>197562</td>\n",
              "      <td>26386</td>\n",
              "      <td>110885</td>\n",
              "    </tr>\n",
              "  </tbody>\n",
              "</table>\n",
              "</div>"
            ],
            "text/plain": [
              "   Manga ID  ... Score Voted By\n",
              "0         0  ...         139571\n",
              "1         1  ...          54901\n",
              "2         2  ...         110885\n",
              "\n",
              "[3 rows x 20 columns]"
            ]
          },
          "metadata": {
            "tags": []
          },
          "execution_count": 5
        }
      ]
    },
    {
      "cell_type": "code",
      "metadata": {
        "colab": {
          "base_uri": "https://localhost:8080/"
        },
        "id": "p0nsIJvCo101",
        "outputId": "c692624d-638c-473d-f114-99834b1a3f07"
      },
      "source": [
        "df.shape"
      ],
      "execution_count": null,
      "outputs": [
        {
          "output_type": "execute_result",
          "data": {
            "text/plain": [
              "(500, 20)"
            ]
          },
          "metadata": {
            "tags": []
          },
          "execution_count": 6
        }
      ]
    },
    {
      "cell_type": "code",
      "metadata": {
        "id": "WTU--1fGpOk1"
      },
      "source": [
        "columns =['English Title' , 'Synonims Titles', 'Type' , 'Genres', 'Author', 'Serialization' ]"
      ],
      "execution_count": null,
      "outputs": []
    },
    {
      "cell_type": "code",
      "metadata": {
        "colab": {
          "base_uri": "https://localhost:8080/",
          "height": 306
        },
        "id": "yPsaV877psiB",
        "outputId": "cdc44904-e956-43e9-a1e8-b09f14f1ab7e"
      },
      "source": [
        "df[columns].head()"
      ],
      "execution_count": null,
      "outputs": [
        {
          "output_type": "execute_result",
          "data": {
            "text/html": [
              "<div>\n",
              "<style scoped>\n",
              "    .dataframe tbody tr th:only-of-type {\n",
              "        vertical-align: middle;\n",
              "    }\n",
              "\n",
              "    .dataframe tbody tr th {\n",
              "        vertical-align: top;\n",
              "    }\n",
              "\n",
              "    .dataframe thead th {\n",
              "        text-align: right;\n",
              "    }\n",
              "</style>\n",
              "<table border=\"1\" class=\"dataframe\">\n",
              "  <thead>\n",
              "    <tr style=\"text-align: right;\">\n",
              "      <th></th>\n",
              "      <th>English Title</th>\n",
              "      <th>Synonims Titles</th>\n",
              "      <th>Type</th>\n",
              "      <th>Genres</th>\n",
              "      <th>Author</th>\n",
              "      <th>Serialization</th>\n",
              "    </tr>\n",
              "  </thead>\n",
              "  <tbody>\n",
              "    <tr>\n",
              "      <th>0</th>\n",
              "      <td>Berserk</td>\n",
              "      <td>Berserk: The Prototype</td>\n",
              "      <td>Manga</td>\n",
              "      <td>['Action', 'Adventure', 'Demons', 'Drama', 'Fa...</td>\n",
              "      <td>['Miura, Kentarou (Story &amp; Art)']</td>\n",
              "      <td>Young Animal</td>\n",
              "    </tr>\n",
              "    <tr>\n",
              "      <th>1</th>\n",
              "      <td>Unknown</td>\n",
              "      <td>JoJo's Bizarre Adventure Part 7: Steel Ball Ru...</td>\n",
              "      <td>Manga</td>\n",
              "      <td>['Action', 'Adventure', 'Mystery', 'Historical...</td>\n",
              "      <td>['Araki, Hirohiko (Story &amp; Art)']</td>\n",
              "      <td>Ultra Jump</td>\n",
              "    </tr>\n",
              "    <tr>\n",
              "      <th>2</th>\n",
              "      <td>Fullmetal Alchemist</td>\n",
              "      <td>Full Metal Alchemist, Hagane no Renkinjutsushi...</td>\n",
              "      <td>Manga</td>\n",
              "      <td>['Action', 'Adventure', 'Comedy', 'Drama', 'Sh...</td>\n",
              "      <td>['Arakawa, Hiromu (Story &amp; Art)']</td>\n",
              "      <td>Shounen Gangan</td>\n",
              "    </tr>\n",
              "    <tr>\n",
              "      <th>3</th>\n",
              "      <td>One Piece</td>\n",
              "      <td>Unknown</td>\n",
              "      <td>Manga</td>\n",
              "      <td>['Action', 'Adventure', 'Comedy', 'Fantasy', '...</td>\n",
              "      <td>['Oda, Eiichiro (Story &amp; Art)']</td>\n",
              "      <td>Shounen Jump (Weekly)</td>\n",
              "    </tr>\n",
              "    <tr>\n",
              "      <th>4</th>\n",
              "      <td>Monster</td>\n",
              "      <td>Unknown</td>\n",
              "      <td>Manga</td>\n",
              "      <td>['Mystery', 'Drama', 'Psychological', 'Seinen']</td>\n",
              "      <td>['Urasawa, Naoki (Story &amp; Art)']</td>\n",
              "      <td>Big Comic Original</td>\n",
              "    </tr>\n",
              "  </tbody>\n",
              "</table>\n",
              "</div>"
            ],
            "text/plain": [
              "         English Title  ...          Serialization\n",
              "0              Berserk  ...           Young Animal\n",
              "1              Unknown  ...             Ultra Jump\n",
              "2  Fullmetal Alchemist  ...         Shounen Gangan\n",
              "3            One Piece  ...  Shounen Jump (Weekly)\n",
              "4              Monster  ...     Big Comic Original\n",
              "\n",
              "[5 rows x 6 columns]"
            ]
          },
          "metadata": {
            "tags": []
          },
          "execution_count": 9
        }
      ]
    },
    {
      "cell_type": "code",
      "metadata": {
        "colab": {
          "base_uri": "https://localhost:8080/"
        },
        "id": "ztwy022opwIr",
        "outputId": "c0c04272-ea34-4835-8a46-ede6bdf4dac2"
      },
      "source": [
        "df.isnull().values.any()"
      ],
      "execution_count": null,
      "outputs": [
        {
          "output_type": "execute_result",
          "data": {
            "text/plain": [
              "False"
            ]
          },
          "metadata": {
            "tags": []
          },
          "execution_count": 12
        }
      ]
    },
    {
      "cell_type": "code",
      "metadata": {
        "id": "nei3fdR_qPh_"
      },
      "source": [
        "def simliar(data):\n",
        "  features = []\n",
        "  for i in range(0,data.shape):\n",
        "    features.append( data['English Title'][i] + ' ' + data['Synonims Titles'][i] + ' ' + data['Type'][i] + ' ' + data['Genres'][i] + ' ' + data['Author'][i] + ' ' + d'Serialization' )\n",
        "\n",
        "    return features "
      ],
      "execution_count": null,
      "outputs": []
    },
    {
      "cell_type": "code",
      "metadata": {
        "id": "5uWSLI_Uwm3J"
      },
      "source": [
        "df['simliar'] = simliar(df)"
      ],
      "execution_count": null,
      "outputs": []
    }
  ]
}